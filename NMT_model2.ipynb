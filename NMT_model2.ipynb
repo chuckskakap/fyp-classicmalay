{
 "cells": [
  {
   "cell_type": "code",
   "execution_count": 34,
   "metadata": {},
   "outputs": [
    {
     "name": "stdout",
     "output_type": "stream",
     "text": [
      "2.11.0\n"
     ]
    }
   ],
   "source": [
    "from __future__ import absolute_import, division, print_function\n",
    "\n",
    "import tensorflow as tf\n",
    "\n",
    "# tf.enable_eager_execution()\n",
    "\n",
    "import matplotlib.pyplot as plt\n",
    "from sklearn.model_selection import train_test_split\n",
    "\n",
    "import unicodedata\n",
    "import re\n",
    "import numpy as np\n",
    "import os\n",
    "import time\n",
    "\n",
    "print(tf.__version__)"
   ]
  },
  {
   "cell_type": "code",
   "execution_count": 35,
   "metadata": {},
   "outputs": [],
   "source": [
    "path_to_file = \"zsm.txt\""
   ]
  },
  {
   "cell_type": "code",
   "execution_count": 36,
   "metadata": {},
   "outputs": [],
   "source": [
    "# Converts the unicode file to ascii\n",
    "def unicode_to_ascii(s):\n",
    "    return ''.join(c for c in unicodedata.normalize('NFD', s)\n",
    "        if unicodedata.category(c) != 'Mn')\n",
    "\n",
    "\n",
    "def preprocess_sentence(w):\n",
    "    w = unicode_to_ascii(w.lower().strip())\n",
    "    \n",
    "    # creating a space between a word and the punctuation following it\n",
    "    # eg: \"he is a boy.\" => \"he is a boy .\" \n",
    "    # Reference:- https://stackoverflow.com/questions/3645931/python-padding-punctuation-with-white-spaces-keeping-punctuation\n",
    "    w = re.sub(r\"([?.!,¿])\", r\" \\1 \", w)\n",
    "    w = re.sub(r'[\" \"]+', \" \", w)\n",
    "    \n",
    "    # replacing everything with space except (a-z, A-Z, \".\", \"?\", \"!\", \",\")\n",
    "    #w = re.sub(r\"[^a-zA-Z?.!,¿]+\", \" \", w)\n",
    "    \n",
    "    w = w.rstrip().strip()\n",
    "    \n",
    "    # adding a start and an end token to the sentence\n",
    "    # so that the model know when to start and stop predicting.\n",
    "    w = '<start> ' + w + ' <end>'\n",
    "    return w"
   ]
  },
  {
   "cell_type": "code",
   "execution_count": 37,
   "metadata": {},
   "outputs": [
    {
     "name": "stdout",
     "output_type": "stream",
     "text": [
      "<start> dia ternganga . <end>\n",
      "<start> دي ترڠاڠا . <end>\n",
      "Dia ternganga.\n",
      "دي ترڠاڠا.\n"
     ]
    }
   ],
   "source": [
    "print(preprocess_sentence(\"Dia ternganga.\"))\n",
    "print(preprocess_sentence(\"دي ترڠاڠا.\"))\n",
    "print(unicode_to_ascii(\"Dia ternganga.\"))\n",
    "print(unicode_to_ascii(\"دي ترڠاڠا.\"))"
   ]
  },
  {
   "cell_type": "code",
   "execution_count": 38,
   "metadata": {},
   "outputs": [],
   "source": [
    "# 1. Remove the accents\n",
    "# 2. Clean the sentences\n",
    "# 3. Return word pairs in the format: [ENGLISH, SPANISH]\n",
    "def create_dataset(path, num_examples):\n",
    "    lines = open(path, encoding='UTF-8').read().strip().split('\\n')\n",
    "    print(lines[0].split('\\t'))\n",
    "    word_pairs = [[preprocess_sentence(w) for w in l.split('\\t')]  for l in lines[:num_examples]]\n",
    "    \n",
    "    return word_pairs"
   ]
  },
  {
   "cell_type": "code",
   "execution_count": 39,
   "metadata": {},
   "outputs": [],
   "source": [
    "def create_dataset(path, num_examples):\n",
    "    lines = open(path, encoding='UTF-8').read().strip().split('\\n')\n",
    "    word_pairs = [[preprocess_sentence(w) for w in l.split('\\t')[:2]] for l in lines[:num_examples]]\n",
    "    \n",
    "    return word_pairs\n"
   ]
  },
  {
   "cell_type": "code",
   "execution_count": 40,
   "metadata": {},
   "outputs": [
    {
     "data": {
      "text/plain": [
       "[['<start> wow ! <end>', '<start> wau ! <end>'],\n",
       " ['<start> wow ! <end>', '<start> واو ! <end>'],\n",
       " ['<start> wow ! <end>', '<start> wah ! <end>'],\n",
       " ['<start> wow ! <end>', '<start> واه ! <end>'],\n",
       " ['<start> attack ! <end>', '<start> serang ! <end>'],\n",
       " ['<start> forget it . <end>', '<start> lupakannya . <end>'],\n",
       " ['<start> forget it . <end>', '<start> lupakanlah . <end>'],\n",
       " ['<start> do come in . <end>', '<start> silakan masuk . <end>'],\n",
       " ['<start> i just ate . <end>', '<start> saya baru sudah makan . <end>'],\n",
       " [\"<start> i'm hungry . <end>\", '<start> perut lapar . <end>']]"
      ]
     },
     "execution_count": 40,
     "metadata": {},
     "output_type": "execute_result"
    }
   ],
   "source": [
    "create_dataset(path_to_file, 10)"
   ]
  },
  {
   "cell_type": "code",
   "execution_count": 41,
   "metadata": {},
   "outputs": [],
   "source": [
    "# This class creates a word -> index mapping (e.g,. \"dad\" -> 5) and vice-versa \n",
    "# (e.g., 5 -> \"dad\") for each language,\n",
    "class LanguageIndex():\n",
    "  def __init__(self, lang):\n",
    "    self.lang = lang\n",
    "    self.word2idx = {}\n",
    "    self.idx2word = {}\n",
    "    self.vocab = set()\n",
    "    \n",
    "    self.create_index()\n",
    "    \n",
    "  def create_index(self):\n",
    "    for phrase in self.lang:\n",
    "      self.vocab.update(phrase.split(' '))\n",
    "    \n",
    "    self.vocab = sorted(self.vocab)\n",
    "    \n",
    "    self.word2idx['<pad>'] = 0\n",
    "    for index, word in enumerate(self.vocab):\n",
    "      self.word2idx[word] = index + 1\n",
    "    \n",
    "    for word, index in self.word2idx.items():\n",
    "      self.idx2word[index] = word"
   ]
  },
  {
   "cell_type": "code",
   "execution_count": null,
   "metadata": {},
   "outputs": [],
   "source": []
  },
  {
   "cell_type": "code",
   "execution_count": 42,
   "metadata": {},
   "outputs": [],
   "source": [
    "def max_length(tensor):\n",
    "    return max(len(t) for t in tensor)\n",
    "\n",
    "\n",
    "def load_dataset(path, num_examples):\n",
    "    # creating cleaned input, output pairs\n",
    "    pairs = create_dataset(path, num_examples)\n",
    "\n",
    "    # index language using the class defined above    \n",
    "    inp_lang = LanguageIndex(sp for en, sp in pairs)\n",
    "    targ_lang = LanguageIndex(en for en, sp in pairs)\n",
    "    \n",
    "    # Vectorize the input and target languages\n",
    "    \n",
    "    # Spanish sentences\n",
    "    input_tensor = [[inp_lang.word2idx[s] for s in sp.split(' ')] for en, sp in pairs]\n",
    "    \n",
    "    # English sentences\n",
    "    target_tensor = [[targ_lang.word2idx[s] for s in en.split(' ')] for en, sp in pairs]\n",
    "    \n",
    "    # Calculate max_length of input and output tensor\n",
    "    # Here, we'll set those to the longest sentence in the dataset\n",
    "    max_length_inp, max_length_tar = max_length(input_tensor), max_length(target_tensor)\n",
    "    \n",
    "    # Padding the input and output tensor to the maximum length\n",
    "    input_tensor = tf.keras.preprocessing.sequence.pad_sequences(input_tensor, \n",
    "                                                                 maxlen=max_length_inp,\n",
    "                                                                 padding='post')\n",
    "    \n",
    "    target_tensor = tf.keras.preprocessing.sequence.pad_sequences(target_tensor, \n",
    "                                                                  maxlen=max_length_tar, \n",
    "                                                                  padding='post')\n",
    "    \n",
    "    return input_tensor, target_tensor, inp_lang, targ_lang, max_length_inp, max_length_tar"
   ]
  },
  {
   "cell_type": "code",
   "execution_count": 43,
   "metadata": {},
   "outputs": [],
   "source": [
    "# Try experimenting with the size of that dataset\n",
    "num_examples = 100\n",
    "input_tensor, target_tensor, inp_lang, targ_lang, max_length_inp, max_length_targ = load_dataset(path_to_file, num_examples)"
   ]
  },
  {
   "cell_type": "code",
   "execution_count": 44,
   "metadata": {},
   "outputs": [
    {
     "data": {
      "text/plain": [
       "(99, 99, 1, 1)"
      ]
     },
     "execution_count": 44,
     "metadata": {},
     "output_type": "execute_result"
    }
   ],
   "source": [
    "# Creating training and validation sets using an 80-20 split\n",
    "input_tensor_train, input_tensor_val, target_tensor_train, target_tensor_val = train_test_split(input_tensor, target_tensor, test_size=0.01)\n",
    "\n",
    "# Show length\n",
    "len(input_tensor_train), len(target_tensor_train), len(input_tensor_val), len(target_tensor_val)"
   ]
  },
  {
   "cell_type": "code",
   "execution_count": 45,
   "metadata": {},
   "outputs": [],
   "source": [
    "BUFFER_SIZE = len(input_tensor_train)\n",
    "BATCH_SIZE = 64\n",
    "N_BATCH = BUFFER_SIZE//BATCH_SIZE\n",
    "embedding_dim = 256\n",
    "units = 256\n",
    "vocab_inp_size = len(inp_lang.word2idx)\n",
    "vocab_tar_size = len(targ_lang.word2idx)\n",
    "\n",
    "dataset = tf.data.Dataset.from_tensor_slices((input_tensor_train, target_tensor_train)).shuffle(BUFFER_SIZE)\n",
    "dataset = dataset.batch(BATCH_SIZE, drop_remainder=True)"
   ]
  },
  {
   "cell_type": "code",
   "execution_count": 13,
   "metadata": {},
   "outputs": [],
   "source": [
    "def gru(units):\n",
    "  # If you have a GPU, we recommend using CuDNNGRU(provides a 3x speedup than GRU)\n",
    "  # the code automatically does that.\n",
    "  return tf.keras.layers.GRU(units, \n",
    "                             return_sequences=True, \n",
    "                             return_state=True, \n",
    "                             recurrent_activation='sigmoid', \n",
    "                             recurrent_initializer='glorot_uniform')"
   ]
  },
  {
   "cell_type": "code",
   "execution_count": 46,
   "metadata": {},
   "outputs": [],
   "source": [
    "def get_encoder(vocab_size, embedding_dim, enc_units, batch_sz):\n",
    "    hidden = tf.zeros((batch_sz, enc_units))\n",
    "    input = tf.keras.layers.Input((max_length_inp,))\n",
    "    x = tf.keras.layers.Embedding(vocab_size, embedding_dim)(input)\n",
    "    x = gru(units)(x)\n",
    "    return tf.keras.models.Model(inputs = input, outputs = x)"
   ]
  },
  {
   "cell_type": "code",
   "execution_count": 47,
   "metadata": {},
   "outputs": [],
   "source": [
    "def get_decoder(vocab_size, embedding_dim, units, batch_sz):\n",
    "  \n",
    "    #define the inputs to the decoder\n",
    "    enc_output = tf.keras.layers.Input((max_length_inp, embedding_dim))\n",
    "    enc_hidden = tf.keras.layers.Input((embedding_dim,))\n",
    "    dec_input = tf.keras.layers.Input((1,))\n",
    "    \n",
    "    hidden_with_time_axis = tf.keras.layers.Reshape((1, embedding_dim))(enc_hidden)\n",
    "\n",
    "    # we get 1 at the last axis because we are applying tanh(FC(EO) + FC(H)) to self.V\n",
    "    W1 = tf.keras.layers.Dense(units)\n",
    "    W2 = tf.keras.layers.Dense(units)\n",
    "    V  = tf.keras.layers.Dense(1, activation = 'softmax')\n",
    "    \n",
    "    attention_weights = V(tf.keras.layers.Activation(activation = \"tanh\")(tf.keras.layers.Add()([W1(enc_output), W2(hidden_with_time_axis)])))\n",
    "    \n",
    "    # context_vector shape after sum == (batch_size, hidden_size)\n",
    "    context_vector = tf.keras.layers.Multiply()([attention_weights, enc_output])\n",
    "    \n",
    "    # reshape the context_vector to concatneate with the output of the first input\n",
    "    context_vector = tf.keras.layers.Permute((2, 1))(context_vector)\n",
    "    context_vector = tf.keras.layers.Dense(1)(context_vector)\n",
    "    context_vector = tf.keras.layers.Permute((2, 1))(context_vector)\n",
    "    \n",
    "    x = tf.keras.layers.Embedding(vocab_size, embedding_dim)(dec_input)\n",
    "\n",
    "    # x shape after concatenation == (batch_size, 1, embedding_dim + hidden_size)\n",
    "    x = tf.keras.layers.Concatenate(axis = -1)([context_vector, x])\n",
    "\n",
    "    # passing the concatenated vector to the GRU\n",
    "    output, state = gru(units)(x)\n",
    "\n",
    "    # output shape == (batch_size * 1, hidden_size)\n",
    "    output = tf.keras.layers.Reshape((output.shape[2],))(output)\n",
    "\n",
    "    # output shape == (batch_size * 1, vocab)\n",
    "    x = tf.keras.layers.Dense(vocab_size)(output)\n",
    "\n",
    "    return tf.keras.models.Model(inputs = [dec_input, enc_hidden, enc_output], outputs = x)"
   ]
  },
  {
   "cell_type": "code",
   "execution_count": 48,
   "metadata": {},
   "outputs": [],
   "source": [
    "encoder = get_encoder(vocab_inp_size, embedding_dim, units, BATCH_SIZE)\n",
    "decoder = get_decoder(vocab_tar_size, embedding_dim, units, BATCH_SIZE)"
   ]
  },
  {
   "cell_type": "code",
   "execution_count": 49,
   "metadata": {},
   "outputs": [],
   "source": [
    "optimizer = tf.keras.optimizers.Adam()\n",
    "\n",
    "\n",
    "def loss_function(real, pred):\n",
    "  mask = 1 - np.equal(real, 0)\n",
    "  loss_ = tf.nn.sparse_softmax_cross_entropy_with_logits(labels=real, logits=pred) * mask\n",
    "  return tf.reduce_mean(loss_)"
   ]
  },
  {
   "cell_type": "code",
   "execution_count": 50,
   "metadata": {},
   "outputs": [],
   "source": [
    "checkpoint_dir = './training_checkpoints'\n",
    "checkpoint_prefix = os.path.join(checkpoint_dir, \"ckpt\")\n",
    "checkpoint = tf.train.Checkpoint(optimizer=optimizer,\n",
    "                                 encoder=encoder,\n",
    "                                 decoder=decoder)"
   ]
  },
  {
   "cell_type": "code",
   "execution_count": 51,
   "metadata": {},
   "outputs": [
    {
     "name": "stdout",
     "output_type": "stream",
     "text": [
      "Epoch 1 Batch 0 Loss 3.0903\n",
      "Epoch 1 Loss 3.0903\n",
      "Time taken for 1 epoch 0.46210551261901855 sec\n",
      "\n",
      "Epoch 2 Batch 0 Loss 3.1066\n",
      "Epoch 2 Loss 3.1066\n",
      "Time taken for 1 epoch 0.3980886936187744 sec\n",
      "\n"
     ]
    }
   ],
   "source": [
    "EPOCHS = 2\n",
    "\n",
    "for epoch in range(EPOCHS):\n",
    "    start = time.time()\n",
    "    \n",
    "    total_loss = 0\n",
    "    \n",
    "    for (batch, (inp, targ)) in enumerate(dataset):\n",
    "        loss = 0\n",
    "        with tf.GradientTape() as tape:\n",
    "            enc_output, enc_hidden = encoder(inp)\n",
    "            #print(tf.reduce_sum(enc_output))\n",
    "            dec_hidden = enc_hidden\n",
    "            \n",
    "            dec_input = tf.expand_dims([targ_lang.word2idx['<start>']] * BATCH_SIZE, 1)       \n",
    "            # Teacher forcing - feeding the target as the next input\n",
    "            for t in range(1, targ.shape[1]):\n",
    "                # passing enc_output to the decoder\n",
    "                #print(dec_input.shape, dec_hidden.shape, enc_output.shape)\n",
    "                predictions = decoder([dec_input, dec_hidden, enc_output])\n",
    "                loss += loss_function(targ[:, t], predictions)\n",
    "                \n",
    "                \n",
    "                # using teacher forcing\n",
    "                dec_input = tf.expand_dims(targ[:, t], 1)\n",
    "        \n",
    "        batch_loss = (loss / int(targ.shape[1]))\n",
    "        \n",
    "        total_loss += batch_loss\n",
    "        \n",
    "        variables = encoder.variables + decoder.variables\n",
    "        \n",
    "        gradients = tape.gradient(loss, variables)\n",
    "        \n",
    "        optimizer.apply_gradients(zip(gradients, variables))\n",
    "        \n",
    "        if batch % 100 == 0:\n",
    "            print('Epoch {} Batch {} Loss {:.4f}'.format(epoch + 1,\n",
    "                                                         batch,\n",
    "                                                         batch_loss.numpy()))\n",
    "    # saving (checkpoint) the model every 2 epochs\n",
    "    if (epoch + 1) % 2 == 0:\n",
    "      checkpoint.save(file_prefix = checkpoint_prefix)\n",
    "    \n",
    "    print('Epoch {} Loss {:.4f}'.format(epoch + 1,\n",
    "                                        total_loss / N_BATCH))\n",
    "    print('Time taken for 1 epoch {} sec\\n'.format(time.time() - start))"
   ]
  },
  {
   "cell_type": "code",
   "execution_count": 52,
   "metadata": {},
   "outputs": [
    {
     "data": {
      "text/plain": [
       "<tensorflow.python.checkpoint.checkpoint.CheckpointLoadStatus at 0x21d6d00c8e0>"
      ]
     },
     "execution_count": 52,
     "metadata": {},
     "output_type": "execute_result"
    }
   ],
   "source": [
    "# restoring the latest checkpoint in checkpoint_dir\n",
    "checkpoint.restore(tf.train.latest_checkpoint(checkpoint_dir))"
   ]
  },
  {
   "cell_type": "code",
   "execution_count": 61,
   "metadata": {},
   "outputs": [],
   "source": [
    "def evaluate(sentence, encoder, decoder, inp_lang, targ_lang, max_length_inp, max_length_targ):\n",
    "    \n",
    "    sentence = preprocess_sentence(sentence)\n",
    "\n",
    "    inputs = [inp_lang.word2idx[i] for i in sentence.split(' ')]\n",
    "    inputs = tf.keras.preprocessing.sequence.pad_sequences([inputs], maxlen=max_length_inp, padding='post')\n",
    "    inputs = tf.convert_to_tensor(inputs)\n",
    "    result = ''\n",
    "\n",
    "    enc_out, enc_hidden = encoder(inputs)\n",
    "    dec_hidden = enc_hidden\n",
    "    dec_input = tf.expand_dims([targ_lang.word2idx['<start>']], 0)\n",
    "    \n",
    "    for t in range(max_length_targ):\n",
    "        \n",
    "        \n",
    "        predictions = decoder([dec_input, dec_hidden, enc_out])\n",
    "        \n",
    "\n",
    "        predicted_id = tf.argmax(predictions[0]).numpy()\n",
    "\n",
    "        result += targ_lang.idx2word[predicted_id] + ' '\n",
    "\n",
    "        if targ_lang.idx2word[predicted_id] == '<end>':\n",
    "            return result, sentence\n",
    "        \n",
    "        # the predicted ID is fed back into the model\n",
    "        dec_input = tf.expand_dims([predicted_id], 0)\n",
    "\n",
    "    return result, sentence"
   ]
  },
  {
   "cell_type": "code",
   "execution_count": 62,
   "metadata": {},
   "outputs": [],
   "source": [
    "def translate(sentence, encoder, decoder, inp_lang, targ_lang, max_length_inp, max_length_targ):\n",
    "    result, sentence = evaluate(sentence, encoder, decoder, inp_lang, targ_lang, max_length_inp, max_length_targ)\n",
    "        \n",
    "    print('Input: {}'.format(sentence))\n",
    "    print('Predicted translation: {}'.format(result))"
   ]
  },
  {
   "cell_type": "code",
   "execution_count": 63,
   "metadata": {},
   "outputs": [
    {
     "ename": "KeyError",
     "evalue": "'come'",
     "output_type": "error",
     "traceback": [
      "\u001b[1;31m---------------------------------------------------------------------------\u001b[0m",
      "\u001b[1;31mKeyError\u001b[0m                                  Traceback (most recent call last)",
      "\u001b[1;32mc:\\Users\\aiman\\Desktop\\FYP\\NMT_model2.ipynb Cell 24\u001b[0m in \u001b[0;36m<cell line: 1>\u001b[1;34m()\u001b[0m\n\u001b[1;32m----> <a href='vscode-notebook-cell:/c%3A/Users/aiman/Desktop/FYP/NMT_model2.ipynb#X31sZmlsZQ%3D%3D?line=0'>1</a>\u001b[0m translate(\u001b[39mu\u001b[39;49m\u001b[39m'\u001b[39;49m\u001b[39mcome\u001b[39;49m\u001b[39m'\u001b[39;49m, encoder, decoder, inp_lang, targ_lang, max_length_inp, max_length_targ)\n",
      "\u001b[1;32mc:\\Users\\aiman\\Desktop\\FYP\\NMT_model2.ipynb Cell 24\u001b[0m in \u001b[0;36mtranslate\u001b[1;34m(sentence, encoder, decoder, inp_lang, targ_lang, max_length_inp, max_length_targ)\u001b[0m\n\u001b[0;32m      <a href='vscode-notebook-cell:/c%3A/Users/aiman/Desktop/FYP/NMT_model2.ipynb#X31sZmlsZQ%3D%3D?line=0'>1</a>\u001b[0m \u001b[39mdef\u001b[39;00m \u001b[39mtranslate\u001b[39m(sentence, encoder, decoder, inp_lang, targ_lang, max_length_inp, max_length_targ):\n\u001b[1;32m----> <a href='vscode-notebook-cell:/c%3A/Users/aiman/Desktop/FYP/NMT_model2.ipynb#X31sZmlsZQ%3D%3D?line=1'>2</a>\u001b[0m     result, sentence \u001b[39m=\u001b[39m evaluate(sentence, encoder, decoder, inp_lang, targ_lang, max_length_inp, max_length_targ)\n\u001b[0;32m      <a href='vscode-notebook-cell:/c%3A/Users/aiman/Desktop/FYP/NMT_model2.ipynb#X31sZmlsZQ%3D%3D?line=3'>4</a>\u001b[0m     \u001b[39mprint\u001b[39m(\u001b[39m'\u001b[39m\u001b[39mInput: \u001b[39m\u001b[39m{}\u001b[39;00m\u001b[39m'\u001b[39m\u001b[39m.\u001b[39mformat(sentence))\n\u001b[0;32m      <a href='vscode-notebook-cell:/c%3A/Users/aiman/Desktop/FYP/NMT_model2.ipynb#X31sZmlsZQ%3D%3D?line=4'>5</a>\u001b[0m     \u001b[39mprint\u001b[39m(\u001b[39m'\u001b[39m\u001b[39mPredicted translation: \u001b[39m\u001b[39m{}\u001b[39;00m\u001b[39m'\u001b[39m\u001b[39m.\u001b[39mformat(result))\n",
      "\u001b[1;32mc:\\Users\\aiman\\Desktop\\FYP\\NMT_model2.ipynb Cell 24\u001b[0m in \u001b[0;36mevaluate\u001b[1;34m(sentence, encoder, decoder, inp_lang, targ_lang, max_length_inp, max_length_targ)\u001b[0m\n\u001b[0;32m      <a href='vscode-notebook-cell:/c%3A/Users/aiman/Desktop/FYP/NMT_model2.ipynb#X31sZmlsZQ%3D%3D?line=0'>1</a>\u001b[0m \u001b[39mdef\u001b[39;00m \u001b[39mevaluate\u001b[39m(sentence, encoder, decoder, inp_lang, targ_lang, max_length_inp, max_length_targ):\n\u001b[0;32m      <a href='vscode-notebook-cell:/c%3A/Users/aiman/Desktop/FYP/NMT_model2.ipynb#X31sZmlsZQ%3D%3D?line=2'>3</a>\u001b[0m     sentence \u001b[39m=\u001b[39m preprocess_sentence(sentence)\n\u001b[1;32m----> <a href='vscode-notebook-cell:/c%3A/Users/aiman/Desktop/FYP/NMT_model2.ipynb#X31sZmlsZQ%3D%3D?line=4'>5</a>\u001b[0m     inputs \u001b[39m=\u001b[39m [inp_lang\u001b[39m.\u001b[39mword2idx[i] \u001b[39mfor\u001b[39;00m i \u001b[39min\u001b[39;00m sentence\u001b[39m.\u001b[39msplit(\u001b[39m'\u001b[39m\u001b[39m \u001b[39m\u001b[39m'\u001b[39m)]\n\u001b[0;32m      <a href='vscode-notebook-cell:/c%3A/Users/aiman/Desktop/FYP/NMT_model2.ipynb#X31sZmlsZQ%3D%3D?line=5'>6</a>\u001b[0m     inputs \u001b[39m=\u001b[39m tf\u001b[39m.\u001b[39mkeras\u001b[39m.\u001b[39mpreprocessing\u001b[39m.\u001b[39msequence\u001b[39m.\u001b[39mpad_sequences([inputs], maxlen\u001b[39m=\u001b[39mmax_length_inp, padding\u001b[39m=\u001b[39m\u001b[39m'\u001b[39m\u001b[39mpost\u001b[39m\u001b[39m'\u001b[39m)\n\u001b[0;32m      <a href='vscode-notebook-cell:/c%3A/Users/aiman/Desktop/FYP/NMT_model2.ipynb#X31sZmlsZQ%3D%3D?line=6'>7</a>\u001b[0m     inputs \u001b[39m=\u001b[39m tf\u001b[39m.\u001b[39mconvert_to_tensor(inputs)\n",
      "\u001b[1;32mc:\\Users\\aiman\\Desktop\\FYP\\NMT_model2.ipynb Cell 24\u001b[0m in \u001b[0;36m<listcomp>\u001b[1;34m(.0)\u001b[0m\n\u001b[0;32m      <a href='vscode-notebook-cell:/c%3A/Users/aiman/Desktop/FYP/NMT_model2.ipynb#X31sZmlsZQ%3D%3D?line=0'>1</a>\u001b[0m \u001b[39mdef\u001b[39;00m \u001b[39mevaluate\u001b[39m(sentence, encoder, decoder, inp_lang, targ_lang, max_length_inp, max_length_targ):\n\u001b[0;32m      <a href='vscode-notebook-cell:/c%3A/Users/aiman/Desktop/FYP/NMT_model2.ipynb#X31sZmlsZQ%3D%3D?line=2'>3</a>\u001b[0m     sentence \u001b[39m=\u001b[39m preprocess_sentence(sentence)\n\u001b[1;32m----> <a href='vscode-notebook-cell:/c%3A/Users/aiman/Desktop/FYP/NMT_model2.ipynb#X31sZmlsZQ%3D%3D?line=4'>5</a>\u001b[0m     inputs \u001b[39m=\u001b[39m [inp_lang\u001b[39m.\u001b[39;49mword2idx[i] \u001b[39mfor\u001b[39;00m i \u001b[39min\u001b[39;00m sentence\u001b[39m.\u001b[39msplit(\u001b[39m'\u001b[39m\u001b[39m \u001b[39m\u001b[39m'\u001b[39m)]\n\u001b[0;32m      <a href='vscode-notebook-cell:/c%3A/Users/aiman/Desktop/FYP/NMT_model2.ipynb#X31sZmlsZQ%3D%3D?line=5'>6</a>\u001b[0m     inputs \u001b[39m=\u001b[39m tf\u001b[39m.\u001b[39mkeras\u001b[39m.\u001b[39mpreprocessing\u001b[39m.\u001b[39msequence\u001b[39m.\u001b[39mpad_sequences([inputs], maxlen\u001b[39m=\u001b[39mmax_length_inp, padding\u001b[39m=\u001b[39m\u001b[39m'\u001b[39m\u001b[39mpost\u001b[39m\u001b[39m'\u001b[39m)\n\u001b[0;32m      <a href='vscode-notebook-cell:/c%3A/Users/aiman/Desktop/FYP/NMT_model2.ipynb#X31sZmlsZQ%3D%3D?line=6'>7</a>\u001b[0m     inputs \u001b[39m=\u001b[39m tf\u001b[39m.\u001b[39mconvert_to_tensor(inputs)\n",
      "\u001b[1;31mKeyError\u001b[0m: 'come'"
     ]
    }
   ],
   "source": [
    "translate(u'come', encoder, decoder, inp_lang, targ_lang, max_length_inp, max_length_targ)"
   ]
  },
  {
   "cell_type": "code",
   "execution_count": 60,
   "metadata": {},
   "outputs": [
    {
     "ename": "KeyError",
     "evalue": "'،'",
     "output_type": "error",
     "traceback": [
      "\u001b[1;31m---------------------------------------------------------------------------\u001b[0m",
      "\u001b[1;31mKeyError\u001b[0m                                  Traceback (most recent call last)",
      "\u001b[1;32mc:\\Users\\aiman\\Desktop\\FYP\\NMT_model2.ipynb Cell 25\u001b[0m in \u001b[0;36m<cell line: 2>\u001b[1;34m()\u001b[0m\n\u001b[0;32m      <a href='vscode-notebook-cell:/c%3A/Users/aiman/Desktop/FYP/NMT_model2.ipynb#X32sZmlsZQ%3D%3D?line=0'>1</a>\u001b[0m \u001b[39m# wrong translation\u001b[39;00m\n\u001b[1;32m----> <a href='vscode-notebook-cell:/c%3A/Users/aiman/Desktop/FYP/NMT_model2.ipynb#X32sZmlsZQ%3D%3D?line=1'>2</a>\u001b[0m translate(\u001b[39mu\u001b[39;49m\u001b[39m'\u001b[39;49m\u001b[39m،\u001b[39;49m\u001b[39m'\u001b[39;49m, encoder, decoder, inp_lang, targ_lang, max_length_inp, max_length_targ)\n",
      "\u001b[1;32mc:\\Users\\aiman\\Desktop\\FYP\\NMT_model2.ipynb Cell 25\u001b[0m in \u001b[0;36mtranslate\u001b[1;34m(sentence, encoder, decoder, inp_lang, targ_lang, max_length_inp, max_length_targ)\u001b[0m\n\u001b[0;32m      <a href='vscode-notebook-cell:/c%3A/Users/aiman/Desktop/FYP/NMT_model2.ipynb#X32sZmlsZQ%3D%3D?line=0'>1</a>\u001b[0m \u001b[39mdef\u001b[39;00m \u001b[39mtranslate\u001b[39m(sentence, encoder, decoder, inp_lang, targ_lang, max_length_inp, max_length_targ):\n\u001b[1;32m----> <a href='vscode-notebook-cell:/c%3A/Users/aiman/Desktop/FYP/NMT_model2.ipynb#X32sZmlsZQ%3D%3D?line=1'>2</a>\u001b[0m     result, sentence \u001b[39m=\u001b[39m evaluate(sentence, encoder, decoder, inp_lang, targ_lang, max_length_inp, max_length_targ)\n\u001b[0;32m      <a href='vscode-notebook-cell:/c%3A/Users/aiman/Desktop/FYP/NMT_model2.ipynb#X32sZmlsZQ%3D%3D?line=3'>4</a>\u001b[0m     \u001b[39mprint\u001b[39m(\u001b[39m'\u001b[39m\u001b[39mInput: \u001b[39m\u001b[39m{}\u001b[39;00m\u001b[39m'\u001b[39m\u001b[39m.\u001b[39mformat(sentence))\n\u001b[0;32m      <a href='vscode-notebook-cell:/c%3A/Users/aiman/Desktop/FYP/NMT_model2.ipynb#X32sZmlsZQ%3D%3D?line=4'>5</a>\u001b[0m     \u001b[39mprint\u001b[39m(\u001b[39m'\u001b[39m\u001b[39mPredicted translation: \u001b[39m\u001b[39m{}\u001b[39;00m\u001b[39m'\u001b[39m\u001b[39m.\u001b[39mformat(result))\n",
      "\u001b[1;32mc:\\Users\\aiman\\Desktop\\FYP\\NMT_model2.ipynb Cell 25\u001b[0m in \u001b[0;36mevaluate\u001b[1;34m(sentence, encoder, decoder, inp_lang, targ_lang, max_length_inp, max_length_targ)\u001b[0m\n\u001b[0;32m      <a href='vscode-notebook-cell:/c%3A/Users/aiman/Desktop/FYP/NMT_model2.ipynb#X32sZmlsZQ%3D%3D?line=0'>1</a>\u001b[0m \u001b[39mdef\u001b[39;00m \u001b[39mevaluate\u001b[39m(sentence, encoder, decoder, inp_lang, targ_lang, max_length_inp, max_length_targ):\n\u001b[0;32m      <a href='vscode-notebook-cell:/c%3A/Users/aiman/Desktop/FYP/NMT_model2.ipynb#X32sZmlsZQ%3D%3D?line=2'>3</a>\u001b[0m     sentence \u001b[39m=\u001b[39m preprocess_sentence(sentence)\n\u001b[1;32m----> <a href='vscode-notebook-cell:/c%3A/Users/aiman/Desktop/FYP/NMT_model2.ipynb#X32sZmlsZQ%3D%3D?line=4'>5</a>\u001b[0m     inputs \u001b[39m=\u001b[39m [inp_lang\u001b[39m.\u001b[39mword2idx[i] \u001b[39mfor\u001b[39;00m i \u001b[39min\u001b[39;00m sentence\u001b[39m.\u001b[39msplit(\u001b[39m'\u001b[39m\u001b[39m \u001b[39m\u001b[39m'\u001b[39m)]\n\u001b[0;32m      <a href='vscode-notebook-cell:/c%3A/Users/aiman/Desktop/FYP/NMT_model2.ipynb#X32sZmlsZQ%3D%3D?line=5'>6</a>\u001b[0m     inputs \u001b[39m=\u001b[39m tf\u001b[39m.\u001b[39mkeras\u001b[39m.\u001b[39mpreprocessing\u001b[39m.\u001b[39msequence\u001b[39m.\u001b[39mpad_sequences([inputs], maxlen\u001b[39m=\u001b[39mmax_length_inp, padding\u001b[39m=\u001b[39m\u001b[39m'\u001b[39m\u001b[39mpost\u001b[39m\u001b[39m'\u001b[39m)\n\u001b[0;32m      <a href='vscode-notebook-cell:/c%3A/Users/aiman/Desktop/FYP/NMT_model2.ipynb#X32sZmlsZQ%3D%3D?line=6'>7</a>\u001b[0m     inputs \u001b[39m=\u001b[39m tf\u001b[39m.\u001b[39mconvert_to_tensor(inputs)\n",
      "\u001b[1;32mc:\\Users\\aiman\\Desktop\\FYP\\NMT_model2.ipynb Cell 25\u001b[0m in \u001b[0;36m<listcomp>\u001b[1;34m(.0)\u001b[0m\n\u001b[0;32m      <a href='vscode-notebook-cell:/c%3A/Users/aiman/Desktop/FYP/NMT_model2.ipynb#X32sZmlsZQ%3D%3D?line=0'>1</a>\u001b[0m \u001b[39mdef\u001b[39;00m \u001b[39mevaluate\u001b[39m(sentence, encoder, decoder, inp_lang, targ_lang, max_length_inp, max_length_targ):\n\u001b[0;32m      <a href='vscode-notebook-cell:/c%3A/Users/aiman/Desktop/FYP/NMT_model2.ipynb#X32sZmlsZQ%3D%3D?line=2'>3</a>\u001b[0m     sentence \u001b[39m=\u001b[39m preprocess_sentence(sentence)\n\u001b[1;32m----> <a href='vscode-notebook-cell:/c%3A/Users/aiman/Desktop/FYP/NMT_model2.ipynb#X32sZmlsZQ%3D%3D?line=4'>5</a>\u001b[0m     inputs \u001b[39m=\u001b[39m [inp_lang\u001b[39m.\u001b[39;49mword2idx[i] \u001b[39mfor\u001b[39;00m i \u001b[39min\u001b[39;00m sentence\u001b[39m.\u001b[39msplit(\u001b[39m'\u001b[39m\u001b[39m \u001b[39m\u001b[39m'\u001b[39m)]\n\u001b[0;32m      <a href='vscode-notebook-cell:/c%3A/Users/aiman/Desktop/FYP/NMT_model2.ipynb#X32sZmlsZQ%3D%3D?line=5'>6</a>\u001b[0m     inputs \u001b[39m=\u001b[39m tf\u001b[39m.\u001b[39mkeras\u001b[39m.\u001b[39mpreprocessing\u001b[39m.\u001b[39msequence\u001b[39m.\u001b[39mpad_sequences([inputs], maxlen\u001b[39m=\u001b[39mmax_length_inp, padding\u001b[39m=\u001b[39m\u001b[39m'\u001b[39m\u001b[39mpost\u001b[39m\u001b[39m'\u001b[39m)\n\u001b[0;32m      <a href='vscode-notebook-cell:/c%3A/Users/aiman/Desktop/FYP/NMT_model2.ipynb#X32sZmlsZQ%3D%3D?line=6'>7</a>\u001b[0m     inputs \u001b[39m=\u001b[39m tf\u001b[39m.\u001b[39mconvert_to_tensor(inputs)\n",
      "\u001b[1;31mKeyError\u001b[0m: '،'"
     ]
    }
   ],
   "source": [
    "# wrong translation\n",
    "translate(u'،', encoder, decoder, inp_lang, targ_lang, max_length_inp, max_length_targ)"
   ]
  }
 ],
 "metadata": {
  "kernelspec": {
   "display_name": "Python 3",
   "language": "python",
   "name": "python3"
  },
  "language_info": {
   "codemirror_mode": {
    "name": "ipython",
    "version": 3
   },
   "file_extension": ".py",
   "mimetype": "text/x-python",
   "name": "python",
   "nbconvert_exporter": "python",
   "pygments_lexer": "ipython3",
   "version": "3.10.4"
  },
  "orig_nbformat": 4
 },
 "nbformat": 4,
 "nbformat_minor": 2
}

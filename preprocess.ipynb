{
 "cells": [
  {
   "cell_type": "code",
   "execution_count": 17,
   "metadata": {},
   "outputs": [],
   "source": [
    "import re\n",
    "\n",
    "with open('rumahubatrumi.txt', 'r', encoding='utf-8') as file:\n",
    "    rumi_text = file.read()\n",
    "\n",
    "# Remove \\n, \\t, numbers, special characters, extra quotation marks, square brackets, colons, semicolons, and the word 'Tamm.'\n",
    "rumi_clean_text = re.sub(r'[\\n\\t\\d]+|\\*{3}|“|”|’+|’’|\\[|\\]|:|;|Tamm\\.', '', rumi_text)\n",
    "\n",
    "# Split text into rumi_sentences using period as a delimiter\n",
    "rumi_sentences = rumi_clean_text.split('.')\n",
    "\n",
    "# Append period and \\n at the end of each sentence\n",
    "rumi_sentences_new_line = [(sentence.strip() + '.\\n') for sentence in rumi_sentences if sentence.strip()]\n",
    "\n",
    "# Write the rumi_sentences to a text file\n",
    "with open('rumahubatrumiclean.txt', 'w', encoding='utf-8') as file:\n",
    "    file.writelines(rumi_sentences_new_line)\n"
   ]
  },
  {
   "cell_type": "code",
   "execution_count": 20,
   "metadata": {},
   "outputs": [],
   "source": [
    "import re\n",
    "\n",
    "with open('rumahubatjawi.txt', 'r', encoding='utf-8') as file:\n",
    "    jawi_text = file.read()\n",
    "\n",
    "# Remove \\n, \\t, numbers, special characters, extra quotation marks, square brackets, colons, semicolons, and the word 'Tamm.'\n",
    "jawi_clean_text = re.sub(r'[\\n\\t\\d]+|\\*{3}|“|”|’+|’’|\\[|\\]|:|;|تم\\.', '', jawi_text)\n",
    "\n",
    "# Split text into rumi_sentences using period as a delimiter\n",
    "jawi_sentences = jawi_clean_text.split('.')\n",
    "\n",
    "# Append period and \\n at the end of each sentence\n",
    "jawi_sentences_new_line = [('.' + sentence.strip() + '\\n') for sentence in jawi_sentences if sentence.strip()]\n",
    "\n",
    "# Write the rumi_sentences to a text file\n",
    "with open('rumahubatjawiclean.txt', 'w', encoding='utf-8') as file:\n",
    "    file.writelines(jawi_sentences_new_line)\n"
   ]
  }
 ],
 "metadata": {
  "kernelspec": {
   "display_name": "Python 3",
   "language": "python",
   "name": "python3"
  },
  "language_info": {
   "codemirror_mode": {
    "name": "ipython",
    "version": 3
   },
   "file_extension": ".py",
   "mimetype": "text/x-python",
   "name": "python",
   "nbconvert_exporter": "python",
   "pygments_lexer": "ipython3",
   "version": "3.10.4"
  },
  "orig_nbformat": 4
 },
 "nbformat": 4,
 "nbformat_minor": 2
}

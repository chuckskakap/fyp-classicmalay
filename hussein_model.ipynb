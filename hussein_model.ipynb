{
 "cells": [
  {
   "cell_type": "code",
   "execution_count": 2,
   "metadata": {},
   "outputs": [],
   "source": [
    "import requests\n",
    "import urllib.parse\n",
    "from bs4 import BeautifulSoup"
   ]
  },
  {
   "cell_type": "code",
   "execution_count": 3,
   "metadata": {},
   "outputs": [],
   "source": [
    "import requests\n",
    "from requests.structures import CaseInsensitiveDict\n",
    "\n",
    "url = \"https://www.ejawi.net/result.php\"\n",
    "\n",
    "headers = CaseInsensitiveDict()\n",
    "headers[\"authority\"] = \"www.ejawi.net\"\n",
    "headers[\"accept\"] = \"text/html,application/xhtml+xml,application/xml;q=0.9,image/avif,image/webp,image/apng,*/*;q=0.8,application/signed-exchange;v=b3;q=0.9\"\n",
    "headers[\"accept-language\"] = \"en-MY,en;q=0.9,en-US;q=0.8,ms;q=0.7\"\n",
    "headers[\"cache-control\"] = \"no-cache\"\n",
    "headers[\"content-type\"] = \"application/x-www-form-urlencoded\"\n",
    "headers[\"cookie\"] = \"__utma=248434904.1854521706.1653239537.1653239537.1653239537.1; __utmc=248434904; __utmz=248434904.1653239537.1.1.utmcsr=google|utmccn=(organic)|utmcmd=organic|utmctr=(not%20provided); __utmt=1; __utmb=248434904.1.10.1653239537\"\n",
    "headers[\"origin\"] = \"https://www.ejawi.net\"\n",
    "headers[\"pragma\"] = \"no-cache\"\n",
    "headers[\"referer\"] = \"https://www.ejawi.net/converterV2.php?go=rumi\"\n",
    "headers[\"sec-ch-ua\"] = '\" Not A;Brand\";v=\"99\", \"Chromium\";v=\"100\", \"Google Chrome\";v=\"100\"'\n",
    "headers[\"sec-ch-ua-mobile\"] = \"?0\"\n",
    "headers[\"sec-ch-ua-platform\"] = '\"macOS\"'\n",
    "headers[\"sec-fetch-dest\"] = \"iframe\"\n",
    "headers[\"sec-fetch-mode\"] = \"navigate\"\n",
    "headers[\"sec-fetch-site\"] = \"same-origin\"\n",
    "headers[\"sec-fetch-user\"] = \"?1\"\n",
    "headers[\"upgrade-insecure-requests\"] = \"1\"\n",
    "headers[\"user-agent\"] = \"Mozilla/5.0 (Macintosh; Intel Mac OS X 10_15_2) AppleWebKit/537.36 (KHTML, like Gecko) Chrome/100.0.4896.88 Safari/537.36\""
   ]
  },
  {
   "cell_type": "code",
   "execution_count": 4,
   "metadata": {},
   "outputs": [],
   "source": [
    "def get_jawi(string):\n",
    "    data = f\"phonText={string}&disable_direction=on&number=1\"\n",
    "    resp = requests.post(url, headers=headers, data=data)\n",
    "    decoded = resp._content.decode()\n",
    "    soup = BeautifulSoup(decoded, 'html.parser')\n",
    "    return soup.find_all('td')[0].text"
   ]
  },
  {
   "cell_type": "code",
   "execution_count": 5,
   "metadata": {},
   "outputs": [
    {
     "data": {
      "text/plain": [
       "'\"بابي\"'"
      ]
     },
     "execution_count": 5,
     "metadata": {},
     "output_type": "execute_result"
    }
   ],
   "source": [
    "get_jawi('\"babi\"')"
   ]
  },
  {
   "cell_type": "code",
   "execution_count": 6,
   "metadata": {},
   "outputs": [],
   "source": [
    "import json\n",
    "import random"
   ]
  },
  {
   "cell_type": "code",
   "execution_count": 7,
   "metadata": {},
   "outputs": [
    {
     "name": "stdout",
     "output_type": "stream",
     "text": [
      "1295\n"
     ]
    }
   ],
   "source": [
    "with open('NirnamaRumiClean.txt', encoding='utf-8') as fopen:\n",
    "    data = list(filter(None, fopen.read().split('\\n')))\n",
    "\n",
    "print(len(data))"
   ]
  },
  {
   "cell_type": "code",
   "execution_count": 8,
   "metadata": {},
   "outputs": [
    {
     "data": {
      "text/plain": [
       "['Dia ternganga. Tidak menyangka',\n",
       " 'akan ditinggalkan begitu sahaja.',\n",
       " 'Perlahan-lahan dia menebarkan pandangan',\n",
       " 'ke sekeliling. Api rakus',\n",
       " 'yang membakar hampir kesemua',\n",
       " 'rumah di Perkampungan Gapura',\n",
       " 'mulai jinak, perlahan-lahan terpadam.',\n",
       " 'Sebahagian sahaja masih tegar',\n",
       " 'meliang-liuk, menjilat penuh serakah',\n",
       " 'papan dan kayu rumah.']"
      ]
     },
     "execution_count": 8,
     "metadata": {},
     "output_type": "execute_result"
    }
   ],
   "source": [
    "def window(string, n = 4):\n",
    "    splitted = string.split()\n",
    "    return [' '.join(splitted[i: i + n]) for i in range(0, len(splitted), n)]\n",
    "\n",
    "window(data[0])"
   ]
  },
  {
   "cell_type": "code",
   "execution_count": 9,
   "metadata": {},
   "outputs": [],
   "source": [
    "import mp1\n",
    "from tqdm import tqdm"
   ]
  },
  {
   "cell_type": "code",
   "execution_count": 10,
   "metadata": {},
   "outputs": [
    {
     "name": "stderr",
     "output_type": "stream",
     "text": [
      "100%|██████████| 1295/1295 [00:00<00:00, 323677.00it/s]\n"
     ]
    }
   ],
   "source": [
    "windows = []\n",
    "for i in tqdm(range(len(data))):\n",
    "    windows.extend(window(data[i], n = random.randint(10, 20)))"
   ]
  },
  {
   "cell_type": "code",
   "execution_count": 11,
   "metadata": {},
   "outputs": [
    {
     "data": {
      "text/plain": [
       "2283"
      ]
     },
     "execution_count": 11,
     "metadata": {},
     "output_type": "execute_result"
    }
   ],
   "source": [
    "\n",
    "len(windows)"
   ]
  },
  {
   "cell_type": "code",
   "execution_count": 12,
   "metadata": {},
   "outputs": [],
   "source": [
    "import re\n",
    "from unidecode import unidecode\n",
    "\n",
    "_punctuation = \"!'(),.:;? +\"\n",
    "_special = '-'\n",
    "_letters = 'ABCDEFGHIJKLMNOPQRSTUVWXYZabcdefghijklmnopqrstuvwxyz'\n",
    "_numbers = '0123456789'\n",
    "_small_letters = 'abcdefghijklmnopqrstuvwxyz'\n",
    "\n",
    "SYMBOLS = (\n",
    "    list(_special) + list(_punctuation) + list(_letters) + list(_numbers)\n",
    ")\n",
    "\n",
    "def cleaning(string):\n",
    "    string = unidecode(string)\n",
    "    string = ''.join([c if c in SYMBOLS else ' ' for c in string])\n",
    "    string = re.sub(r'[ ]+', ' ', string.lower()).strip()\n",
    "    return string"
   ]
  },
  {
   "cell_type": "code",
   "execution_count": 13,
   "metadata": {},
   "outputs": [],
   "source": [
    "from tqdm import tqdm\n",
    "\n",
    "def loop(files):\n",
    "    windows, _ = files\n",
    "    results = []\n",
    "    for d in tqdm(windows):\n",
    "        try:\n",
    "            t = cleaning(d)\n",
    "            if len(t):\n",
    "                r = get_jawi(t)\n",
    "                if len(r):\n",
    "                    results.append((t, r))\n",
    "        except Exception as e:\n",
    "            print(e)\n",
    "    return results\n",
    "\n",
    "\n"
   ]
  },
  {
   "cell_type": "code",
   "execution_count": 14,
   "metadata": {},
   "outputs": [
    {
     "name": "stderr",
     "output_type": "stream",
     "text": [
      "100%|██████████| 10/10 [00:00<00:00, 15.15it/s]\n"
     ]
    }
   ],
   "source": [
    "r = loop((windows[:10],0))"
   ]
  },
  {
   "cell_type": "code",
   "execution_count": 15,
   "metadata": {},
   "outputs": [],
   "source": [
    "# r = mp1.multiprocessing(windows, loop, cores = 20)\n"
   ]
  }
 ],
 "metadata": {
  "kernelspec": {
   "display_name": "Python 3",
   "language": "python",
   "name": "python3"
  },
  "language_info": {
   "codemirror_mode": {
    "name": "ipython",
    "version": 3
   },
   "file_extension": ".py",
   "mimetype": "text/x-python",
   "name": "python",
   "nbconvert_exporter": "python",
   "pygments_lexer": "ipython3",
   "version": "3.10.4"
  },
  "orig_nbformat": 4
 },
 "nbformat": 4,
 "nbformat_minor": 2
}
